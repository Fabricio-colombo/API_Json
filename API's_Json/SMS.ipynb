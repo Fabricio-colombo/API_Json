{
 "cells": [
  {
   "cell_type": "code",
   "execution_count": 1,
   "metadata": {},
   "outputs": [],
   "source": [
    "from twilio.rest import Client\n",
    "account_sid = 'AC4160ed3b5aec3d53a93ba1a393fa912f'\n",
    "auth_token = 'd1505f093eed5cf141d846b860c1d270'\n",
    "cliente = Client(account_sid, auth_token)\n",
    "\n",
    "msg = cliente.messages.create(\n",
    "    to='+5548999643332',\n",
    "    from_='+17159727632',\n",
    "    body='Olá, tudo bemmmm?')\n",
    "\n"
   ]
  }
 ],
 "metadata": {
  "kernelspec": {
   "display_name": "Python 3",
   "language": "python",
   "name": "python3"
  },
  "language_info": {
   "codemirror_mode": {
    "name": "ipython",
    "version": 3
   },
   "file_extension": ".py",
   "mimetype": "text/x-python",
   "name": "python",
   "nbconvert_exporter": "python",
   "pygments_lexer": "ipython3",
   "version": "3.12.1"
  }
 },
 "nbformat": 4,
 "nbformat_minor": 2
}
